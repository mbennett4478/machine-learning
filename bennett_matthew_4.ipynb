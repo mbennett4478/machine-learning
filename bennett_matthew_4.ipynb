{
 "cells": [
  {
   "cell_type": "code",
   "execution_count": 1,
   "metadata": {},
   "outputs": [
    {
     "name": "stderr",
     "output_type": "stream",
     "text": [
      "/Users/mbennett/PycharmProjects/bennett_matthew_1/venv/lib/python3.7/site-packages/ipykernel_launcher.py:21: RuntimeWarning: covariance is not symmetric positive-semidefinite.\n",
      "/Users/mbennett/PycharmProjects/bennett_matthew_1/venv/lib/python3.7/site-packages/ipykernel_launcher.py:42: RuntimeWarning: covariance is not symmetric positive-semidefinite.\n"
     ]
    }
   ],
   "source": [
    "import matplotlib.pyplot as plt\n",
    "import numpy as np\n",
    "\n",
    "\n",
    "# The following binary classification dataset is created by drawing data from two 3D Gaussians\n",
    "# Each data point has 3 dimensions\n",
    "\n",
    "\n",
    "# Mean and covariance for Class 0\n",
    "mean0 = [0, 0, 0]\n",
    "cov0 = [[2550, 2000, 1500], [2000, 1500, 1200], [1500, 1200, 1900]]  \n",
    "\n",
    "\n",
    "# Number of datapoints for class 0\n",
    "m0 = 100\n",
    "\n",
    "\n",
    "# Generate class 0 data points from a multivariate (3D) Gaussian distribution\n",
    "#    Here x0_1, x0_2 and x0_3 are 3 dimensions for each data (feature) point\n",
    "\n",
    "x0_1, x0_2, x0_3 = np.random.multivariate_normal(mean0, cov0, m0).T\n",
    "\n",
    "\n",
    "# Concatenate the 3 dimensions of each feature to create the data matrix for class 0 \n",
    "X0 = np.concatenate((x0_1.reshape(-1, 1), x0_2.reshape(-1, 1), x0_3.reshape(-1, 1)), axis=1)\n",
    "\n",
    "# Create the target vector for class 0 (target is coded with zero)\n",
    "X0_target = np.zeros((m0,), dtype=np.int).reshape(-1, 1)\n",
    "\n",
    "\n",
    "\n",
    "# Mean and covariance for Class 1\n",
    "mean1 = [3, 3, 3]\n",
    "cov1 = [[2550, 2000, 1500], [2000, 1500, 1200], [1500, 1200, 1900]] \n",
    "\n",
    "# Number of datapoints for class 1\n",
    "m1 = 100\n",
    "\n",
    "\n",
    "# Generate class 1 data points from a multivariate (3D) Gaussian distribution\n",
    "#    Here x1_1, x1_2 and x1_3 are 2 dimensions for each data (feature) point\n",
    "x1_1, x1_2, x1_3 = np.random.multivariate_normal(mean1, cov1, m1).T\n",
    "\n",
    "# Concatenate the 3 dimensions of each feature to create the data matrix for class 1\n",
    "X1 = np.concatenate((x1_1.reshape(-1, 1), x1_2.reshape(-1, 1), x1_3.reshape(-1, 1)), axis=1)\n",
    "\n",
    "# Create the target vector for class 1 (target is coded with one)\n",
    "X1_target = np.ones((m1,), dtype=np.int).reshape(-1, 1)\n",
    "\n",
    "\n",
    "#  Class 0 and 1 data are combined to create a single data matrix X\n",
    "X = np.append(X0, X1, axis=0)\n",
    "\n",
    "# Target values for class 0 & 1 are combined to create a single target vector\n",
    "y = np.concatenate((X0_target, X1_target), axis=0)\n"
   ]
  },
  {
   "cell_type": "code",
   "execution_count": null,
   "metadata": {},
   "outputs": [],
   "source": []
  }
 ],
 "metadata": {
  "kernelspec": {
   "display_name": "Python 3",
   "language": "python",
   "name": "python3"
  },
  "language_info": {
   "codemirror_mode": {
    "name": "ipython",
    "version": 3
   },
   "file_extension": ".py",
   "mimetype": "text/x-python",
   "name": "python",
   "nbconvert_exporter": "python",
   "pygments_lexer": "ipython3",
   "version": "3.7.2"
  }
 },
 "nbformat": 4,
 "nbformat_minor": 2
}
